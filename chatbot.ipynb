{
 "cells": [
  {
   "cell_type": "code",
   "execution_count": 1,
   "metadata": {},
   "outputs": [
    {
     "data": {
      "text/plain": [
       "True"
      ]
     },
     "execution_count": 1,
     "metadata": {},
     "output_type": "execute_result"
    }
   ],
   "source": [
    "import os\n",
    "from dotenv import load_dotenv\n",
    "load_dotenv()"
   ]
  },
  {
   "cell_type": "code",
   "execution_count": 2,
   "metadata": {},
   "outputs": [
    {
     "data": {
      "text/plain": [
       "ChatGroq(client=<groq.resources.chat.completions.Completions object at 0x00000213E21A2C20>, async_client=<groq.resources.chat.completions.AsyncCompletions object at 0x00000213E21A1960>, model_name='llama3-8b-8192', model_kwargs={}, groq_api_key=SecretStr('**********'))"
      ]
     },
     "execution_count": 2,
     "metadata": {},
     "output_type": "execute_result"
    }
   ],
   "source": [
    "from langchain_groq import ChatGroq\n",
    "groq_api_key = os.getenv(\"GROQ_API_KEY\")\n",
    "llm = ChatGroq(model=\"llama3-8b-8192\",api_key=groq_api_key)\n",
    "llm"
   ]
  },
  {
   "cell_type": "code",
   "execution_count": 4,
   "metadata": {},
   "outputs": [],
   "source": [
    "os.environ[\"HF_TOKEN\"] = os.getenv(\"HF_TOKEN\")\n",
    "from langchain_huggingface import HuggingFaceEmbeddings\n",
    "embeddings = HuggingFaceEmbeddings(model_name = \"all-MiniLM-L6-v2\")"
   ]
  },
  {
   "cell_type": "code",
   "execution_count": 5,
   "metadata": {},
   "outputs": [
    {
     "name": "stderr",
     "output_type": "stream",
     "text": [
      "USER_AGENT environment variable not set, consider setting it to identify your requests.\n"
     ]
    }
   ],
   "source": [
    "from langchain_chroma import Chroma\n",
    "from langchain_community.document_loaders import WebBaseLoader\n",
    "from langchain_core.prompts import ChatPromptTemplate\n",
    "from langchain_text_splitters import RecursiveCharacterTextSplitter\n",
    "from langchain.chains import create_retrieval_chain\n",
    "from langchain.chains.combine_documents import create_stuff_documents_chain"
   ]
  },
  {
   "cell_type": "code",
   "execution_count": 6,
   "metadata": {},
   "outputs": [
    {
     "data": {
      "text/plain": [
       "[Document(metadata={'source': 'https://www.mapcommunications.com/call-center-faq/', 'title': '\\nWhat Is a Call Center? - Call Center FAQs | MAP Communications', 'description': 'MAP Communications answers the most frequently asked questions about call centers. Find the answers to your questions here!', 'language': 'en-US'}, page_content='\\n\\n\\n\\n\\n\\n\\n\\n\\n\\n\\n\\n\\nWhat Is a Call Center? - Call Center FAQs | MAP Communications\\n\\n\\n\\n\\n\\n\\n\\n\\n\\n\\n\\n\\n\\n\\n\\n\\n\\n\\n\\n\\n\\n\\n\\n\\n\\n\\n\\n\\n\\n\\n\\n\\n\\n\\n\\n\\n\\n\\n\\n\\n\\n\\n\\n\\n\\n\\n\\n\\n\\n\\n\\n\\n\\n\\n\\n\\n\\n\\n\\n\\n\\n\\n\\n\\n\\n\\n\\n\\n\\n\\n\\n\\n\\n\\n\\n\\n\\n\\n\\n\\n\\n\\n\\n \\n\\n\\n\\n\\n\\n\\n\\n\\n\\n\\n\\n\\n\\n\\n\\n\\n\\n\\n\\n\\n\\n\\n\\n\\n\\n\\n\\n\\n\\nThe First HITRUST Certified Answering Service\\n\\n MyMAP LOGIN Start my free trial\\n\\n   \\n\\n\\n\\n\\nSales: 888-252-6555 Customer Service: 800-627-0114\\n\\n\\nRequest a Free Trial \\n\\n\\n\\n Menu \\n\\nServices\\n\\nVirtual Receptionist Services\\nAnswering Services\\nCall Center Services\\n\\n\\nIndustries\\n\\nSmall Businesses\\nMedical\\n\\nHIPAA Compliance\\nAddiction Recovery\\nChiropractor\\nDentists\\nDoctors and Physicians\\nEye Doctor\\nHospice\\nHospitals\\nMedical Clinics\\nMental Health\\nVeterinarians\\nSee More\\n\\n\\nContractors\\n\\nCleaning Companies\\nConstruction\\nElectricians\\nElevators\\nGlass Repair\\nHVAC\\nLandscapers\\nPest Control\\nPlumbers\\nRoofers\\nSee More\\n\\n\\nProperty Management\\n\\nApartments (Residential)\\nCommercial Properties\\nReal Estate\\nSecurity System Businesses\\nStorage Companies\\n\\n\\nAttorneys\\n\\nCriminal Law\\nFamily Law\\nPersonal Injury\\nCorporate Law\\nImmigration Law\\nEstate, Trust, and Elder Law\\n\\n\\nTransportation\\n\\nCar Dealerships\\nTransportation Rentals\\nTowing Companies\\nAutomotive Services\\nParking Companies\\nTaxis and Shuttles\\nTrucking Businesses\\nMoving Companies\\n\\n\\nHospitality\\n\\nLodging\\nRestaurants\\nEntertainment\\nEvent Planners\\nCruise Lines\\nMusicians\\n\\n\\nFinancial\\n\\nAccountants\\nBanks and Lenders\\nWealth Management\\nInsurance Agencies\\nReal Estate Investors\\nStudent Loans\\n\\n\\nUtilities\\n\\nOil, Gas, and Propane\\nSewer, Septic, and Sanitation\\nElectricity Providers\\nSolar Energy\\n\\n\\nEmergency Restoration\\nHigher Education\\nGovernment\\nEmployee Callout\\nEthics and Compliance Line\\nView All Industries\\n\\n\\nAbout Us\\n\\nEmployee-Owned\\nCharitable Causes\\nCareers\\n\\n\\nHITRUST Certified\\nPricing\\nTestimonials\\nResources\\n\\nBlog\\nCost of a Missed Call\\nFAQ\\nCustom Phone Scripts\\n\\n\\nContact Us\\n\\nFree Trial\\nRequest Information\\nCustomer Support\\nData Privacy Questions\\n\\n\\n \\n\\n   \\n\\n\\n\\n\\nServices\\n\\nVirtual Receptionist Services\\nAnswering Services\\nCall Center Services\\n\\n\\nIndustries\\n\\nSmall Businesses\\nMedical\\n\\nHIPAA Compliance\\nAddiction Recovery\\nChiropractor\\nDentists\\nDoctors and Physicians\\nEye Doctor\\nHospice\\nHospitals\\nMedical Clinics\\nMental Health\\nVeterinarians\\nSee More\\n\\n\\nContractors\\n\\nCleaning Companies\\nConstruction\\nElectricians\\nElevators\\nGlass Repair\\nHVAC\\nLandscapers\\nPest Control\\nPlumbers\\nRoofers\\nSee More\\n\\n\\nProperty Management\\n\\nApartments (Residential)\\nCommercial Properties\\nReal Estate\\nSecurity System Businesses\\nStorage Companies\\n\\n\\nAttorneys\\n\\nCriminal Law\\nFamily Law\\nPersonal Injury\\nCorporate Law\\nImmigration Law\\nEstate, Trust, and Elder Law\\n\\n\\nTransportation\\n\\nCar Dealerships\\nTransportation Rentals\\nTowing Companies\\nAutomotive Services\\nParking Companies\\nTaxis and Shuttles\\nTrucking Businesses\\nMoving Companies\\n\\n\\nHospitality\\n\\nLodging\\nRestaurants\\nEntertainment\\nEvent Planners\\nCruise Lines\\nMusicians\\n\\n\\nFinancial\\n\\nAccountants\\nBanks and Lenders\\nWealth Management\\nInsurance Agencies\\nReal Estate Investors\\nStudent Loans\\n\\n\\nUtilities\\n\\nOil, Gas, and Propane\\nSewer, Septic, and Sanitation\\nElectricity Providers\\nSolar Energy\\n\\n\\nEmergency Restoration\\nHigher Education\\nGovernment\\nEmployee Callout\\nEthics and Compliance Line\\nView All Industries\\n\\n\\nAbout Us\\n\\nEmployee-Owned\\nCharitable Causes\\nCareers\\n\\n\\nHITRUST Certified\\nPricing\\nTestimonials\\nResources\\n\\nBlog\\nCost of a Missed Call\\nFAQ\\nCustom Phone Scripts\\n\\n\\nContact Us\\n\\nFree Trial\\nRequest Information\\nCustomer Support\\nData Privacy Questions\\n\\n\\n \\n\\n\\n\\n\\n\\n\\n\\n\\n\\n\\nWhere small and large companies come for theiranswering service and call center needs.\\n\\n\\n\\n\\n\\n\\n\\n\\nCall Center FAQs\\nHome / Call Center FAQs\\n\\n\\nMAP Communications answers the most frequently asked questions about call centers. Find the answers to your questions here!\\n\\nCurious about call centers, their role in business, or the services they provide? You’ve come to the right place! We’re happy to answer all of your most burning questions about call centers. After more than 30 years in the call center industry, we like to think of ourselves as experts! Here, you’ll find a collection of frequently asked questions about call centers along with answers to those questions.\\nWhat is a Call Center?\\nCall centers are centralized hubs where a large volume of calls are handled by trained agents, often referred to as\\xa0virtual receptionists\\xa0or agents. These agents are equipped with the tools and technology necessary to efficiently handle customer inquiries, resolve issues, and provide support across various channels such as phone calls, emails, live chat, and social media.\\nIf you’ve dialed a business in the last 30 years, odds are good you’ve reached a call center at some point. They’ve become ubiquitous among businesses large and small — and for good reason. But just what is a call center and how do they work?\\nCall center operations can do wonders to support businesses across industries. Whether you’re a busy realtor in need of help with appointment scheduling or a tech company hoping to add tier-one support for callers, call center services from MAP Communications can transform your customer experience offerings.\\nWhat Do Call Centers Do?\\nCall centers provide a channel for communication via telephone. Some call centers are located within an organization and are considered “in-house.” However, many call centers actually handle phone calls on the behalf of many different businesses as third party companies. Sometimes call centers specialize in outbound or inbound calls, while others will perform both.\\nHow Do Call Centers Operate\\nSo how do call centers work, exactly? It’s a question asked by many of our new clients. When you decide to partner with MAP, we’ll chat with you about your goals and expectations. We’ll work with you to develop\\xa0customized call scripts\\xa0that reflect your policies and procedures. In many cases, callers will have no idea they’re speaking with a third party instead of your in-house team.\\nWhen calls come in, our highly trained agents handle them with professionalism and expertise. Our team is ready to address customer inquiries, resolve issues, and provide assistance as needed. We aim to represent your brand effectively while maintaining the highest standards of customer service and satisfaction.\\nWhat Services Are Provided by Call Centers\\nOur call center operations can be tailored to your unique preferences and priorities. Some of the most popular services we offer include:\\nAppointment Scheduling\\nWe’re happy to assist in managing appointments and scheduling services for customers. Agents coordinate appointment bookings, confirmations, and cancellations, ensuring efficient scheduling and minimizing appointment no-shows. We integrate with scheduling tools like Calendly and Google Calendar for truly seamless integration into your business.\\nOrder Processing\\nAllow us to place customer orders, process payments, and coordinate shipping or delivery logistics. Our agents ensure accurate order entry, address customer inquiries related to orders, and provide order status updates as needed.\\nTechnical Support\\nIf your callers need support for products or services, MAP can help. Our trained agents offer guidance and troubleshooting assistance to help customers resolve technical issues, troubleshoot software or hardware problems, and navigate complex technical procedures.\\nSales and Lead Generation\\nOur call center agents can chat with potential customers to promote products or services and qualify leads for further follow-up by sales teams. Call centers also support inbound sales inquiries, processing orders, and upselling or cross-selling additional products or services.\\nWhat are the Benefits of Using Call Centers\\nThe benefits of call centers are endless. You’ll see serious cost savings through streamlined operations and scalable services. By outsourcing customer service tasks, you’ll have more to focus on core activities while ensuring round-the-clock availability and improved rates of customer satisfaction.\\nOur advanced technology and trained agents allow us to deliver efficient and professional support. This inevitably leads to increased efficiency and customer loyalty. We can also provide valuable insights through data analytics, empowering you to make informed decisions and optimize your service strategies for long-term success.\\nWhat is an Outbound Call?\\nOutbound calls occur when a business or organization initiates a call with a customer or client. For instance, a cable company might dial up a customer who is late on their monthly bill to request payment. Telemarketing is also a common type of outbound calling. These are examples of an outbound calls since the call center is taking the initiative to reach out to the consumer.\\nWhat is an Inbound Call?\\nInbound calls happen when a customer, client, or other individual calls into an organization. For instance, these are examples of inbound calls – if you call a customer service department for help, dial a phone number to place an order after seeing an offer on TV, or make a call to a business to schedule an appointment. These are considered inbound calls, because the phone rings in the call center to initiate the conversation. Basically, an inbound call is when a company receives a phone call from a customer.\\nWhat is an Inbound Call Center?\\nInbound call centers answer phones, but don’t typically dial them. Rather than dialing customers themselves, agents answer calls as they are placed by consumers. Telemarketing does not occur at an inbound call center. Common types of calls at an inbound call center include customer support, order taking, IT support, and answering questions for callers. MAP Communications is an example of an inbound call center.\\nWhat is the Difference Between Inbound and Outbound Call Center Services?\\nThe key difference between outbound and inbound call center services is who is initiating the call. An inbound call center handles calls made by consumers. In an outbound call center, agents are the ones dialing the consumers. Types of inbound call center services include traditional telephone answering services, appointment scheduling, customer service, order taking, technical support, and hotline services. Types of outbound call center services include telemarketing, surveys, and reminders.\\nThere are plenty of call centers that are a hybrid, conducting both inbound and outbound call center services. However, many call center businesses choose to be an outbound or an inbound call center and focus on that specialty.\\nWhat Type of Business is a Call Center?\\nCall center businesses are primarily categorized as business-to-business or B2B companies. They also fit into the telecommunications industry. Another type of industry call centers fall under is the business process outsourcing, or BPO category.\\nWhat Services are Provided by Call Centers?\\nWhen it comes to call center services, the sky’s the limit. Call center workers can capture and qualify leads, take orders, collect information from callers, and assist with customer service inquiries, among many other things. Some call centers are even available 24 hours a day to provide callers with round-the-clock support. Bilingual call center service options are also available in some call centers. For example, MAP Communications provides call center services in English, Spanish, and French.\\nCustomer-facing call center services are only the beginning. Some companies use call centers to provide hotlines for their own employees to call for a number of different reasons.\\nWhy Do Companies Use Call Centers?\\nCompanies use call centers, because they provide services that are vital to businesses. Organizations outsource to call center businesses, because it is cheaper than building out their own facilities, buying equipment, and hiring employees to be call center agents. It also allows businesses to focus on their core competencies without having to invest the time and energy in a business function that is not their specialty. In short, companies use call centers to save time and money so they can focus on what they do best.\\nBusinesses frequently turn to call centers for help with customer support. Call centers help companies manage existing customers and assist with acquiring new ones. 24-hour call centers ensure there is always a friendly, helpful voice on the end of the line to assist with questions and concerns. Outsourcing call center aspects of business allows companies of all sizes across different industries to focus more on their daily operations while maintaining high standards for phone interactions with consumers.\\nWhat Types of Companies Use Call Centers?\\nPretty much every type of company imaginable uses call centers. From the biggest businesses and Fortune 500 companies of the world down to small businesses and solopreneurs, all sizes of businesses use call centers too. Companies of all sizes and industries rely on call center services to accomplish their goals. And virtually every industry uses call centers to support their clients and employees.\\nHere are some examples: Large companies like banks, airlines, and well-known retailers often have their own in-house call center. Organizations of all sizes are known to outsource their phone calls to a call center. Small businesses eager for administrative support can benefit from call center services when there’s no room in the budget for hiring additional staff. Medical facilities like hospitals and doctors’ offices often rely on such call centers to help support patients. Universities and colleges\\xa0sometimes partner with a call center to field their calls, answer basic questions, and route callers to the right departments. Almost any business you can think of can benefit from call center services.\\nWhy are Call Centers Important?\\nCall centers are important, because they are a link between people and businesses. Not only do call centers help people who call businesses by providing good customer experiences, but call centers also help companies accomplish their goals to be successful.\\nHow Much Do Call Center Services Cost?\\nThe cost of call center services can vary widely. The two main factors in determining how much call center services cost are the average duration of calls and the volume of calls. Generally, the more calls you receive, the cheaper the rate becomes. It is most common for call centers to charge by the minute. Call center pricing often falls between $0.80 and $1.20 per minute of agent time.\\nWhat’s the Difference Between a Call Center and an Answering Service?\\nThe terms are often used interchangeably, but they do have their differences. All answering services are call center services, but not all call center services are answering services. To clarify, phone answering services are one of the many types of services provided by call centers. All answering service companies are staffed by call centers agents or receptionists. Some call centers only provide answering services. Others don’t provide answering services at all, because they focus on a different call center service specialty.\\nAdministrative Challenges, Call Center Solutions\\nRunning a business means putting out new fires daily. With MAP call center operations at your disposal, many of the most common kinds of administrative challenges become a thing of the past. Feeling overwhelmed by a constantly ringing telephone? By diverting calls to MAP, you gain the peace of mind to tackle other projects. Want to take time off without neglecting your customers? MAP has your back with\\xa024/7 call-handling services. Struggling to communicate with Spanish-speaking clientele? Our\\xa0bilingual agents\\xa0are happy to help bridge the language barrier.\\nNo matter what administrative hurdles you’re up against, MAP can help find a solution. Don’t take our word for it, though – see our\\xa0testimonials page\\xa0for insight into why our customers love our call center services.\\nTry Our Call Center Services for Free\\nCall center services can truly revolutionize the way you do business. Gain free time, save money on staffing costs, and treat your callers to a customer experience they won’t soon forget. With our professional agents handling customer inquiries promptly and professionally, you can rest assured that your customers are in good hands. By outsourcing your call center needs to us, you can focus on what matters most – growing your business and achieving your goals.\\nIf you’re curious about our call center operations but aren’t sure you want to commit to a partnership with MAP right away, consider signing up for our\\xa0seven day free trial. For one week, you’ll enjoy all the benefits of our call center services with zero obligation to continue using them once the trial is up. No credit card is needed to sign up, and there are no contracts to worry about upfront. With so much to gain, why not give MAP a try?\\nTo learn more about answering services, read about our call answering services, or check out the most frequently asked questions about answering services.\\nDon’t see your call center question here? Looking for a more in-depth answer?\\nIf you have more questions about call center services, we’re happy to answer them! Submit your question and we’ll be in touch with the answer soon.\\n\\n\\n\\n\\n\\n\\n \\n\\n\\n\\n\\n\\n\\n\\n\\n\\n\\nGet a Custom Quote or Just Learn More!\\nStay connected to every customer and get the most out of every phone call with our risk-free trial\\n\\nFree 7 Day Trial – No Credit Card Required\\n24/7 Call Answering\\n100% US Based\\n\\n\\n\\n\\n\\nFirst Name* Company Name* Phone Number*Email*\\n\\nHiddenCOMMENTSAccept Privacy Policy**By accepting our ‘Privacy Policy’ above, you agree that MAP Communications and its affiliates may communicate with you via email, text, or phone through the email and/or phone number provided on the form. MAP Communications may use automated technology (e.g., pre-recorded messages, auto dialers) to contact you. You are not required to provide your phone number to MAP Communications. Your information is collected and used in accordance with MAP Communications’ Privacy Policy and Data Processing Agreement, and you may opt out of electronic communication at any time.\\n\\nAccept Privacy Policy*\\nCAPTCHAEmailThis field is for validation purposes and should be left unchanged.\\n  \\n\\n\\n\\n\\n\\n\\n\\n\\nΔ\\n\\n\\n\\n\\n\\n\\n\\n\\n\\nTestimonials\\n\\nAs a small business owner, I gladly pay for services that reduce stress and take a load off my shoulders. MAP Communications does that for me and as a small business owner, that’s worth its weight in gold.\\n\\n\\n          Jeff P.        \\n\\n\\n\\n\\nWhy Choose MAP?\\n\\nFastest pick-up times in the industry\\nProfessional and courteous receptionists\\nSpecialized call screening\\nEmergency response specialists\\n\\n\\nYour own nationwide 800 number\\nVoicemail and IVR services \\nIn-house IT Dept\\nCustom account and software design\\n\\n\\nDynamic online account access\\nInterface with your company website\\nAdvanced on-call roster services\\nOnline account analytics\\n\\n\\n\\n\\n\\n\\n\\nHome\\nServices\\nIndustries\\nAbout Us\\nPricing\\nTestimonials\\nBlog\\nContact Us\\n \\n\\nSales: 888-252-6555 Customer Service: 800-627-0114Career Opportunities: 800-547-5256 \\nSales: 888-252-6555  || Customer Service: 800-627-0114 || Career Opportunities: 800-547-5256 \\nSite Map // Privacy Statement  // Terms & Conditions  // DPA  // Copyright © 2024\\n        MAP Communications\\n        , Inc. All Rights Reserved.\\n\\nWebsite MaintainedByTechArk\\n\\n \\n\\n\\n\\n888-252-6555Sales\\n 800-627-0114Customer Service\\n800-547-5256Career Opportunities\\n\\n\\n\\n\\n\\n\\n\\n\\n\\n\\n\\n\\n\\n\\n\\n\\n\\n\\n\\n \\n\\n\\n\\n\\n\\n\\n\\n\\n\\n\\n\\n\\n\\n\\n\\n\\n\\n\\n\\n\\n\\n\\n\\n\\n\\n\\n\\n\\n\\n\\n\\n\\n\\n\\n\\n\\n\\n\\n\\n')]"
      ]
     },
     "execution_count": 6,
     "metadata": {},
     "output_type": "execute_result"
    }
   ],
   "source": [
    "import bs4\n",
    "loader = WebBaseLoader(\"https://www.mapcommunications.com/call-center-faq/\")\n",
    "docs = loader.load()\n",
    "docs"
   ]
  },
  {
   "cell_type": "code",
   "execution_count": 7,
   "metadata": {},
   "outputs": [],
   "source": [
    "from langchain_text_splitters import RecursiveCharacterTextSplitter\n",
    "text_splitters = RecursiveCharacterTextSplitter(chunk_size = 1000, chunk_overlap = 200)\n",
    "final_docs = text_splitters.split_documents(docs)"
   ]
  },
  {
   "cell_type": "code",
   "execution_count": 8,
   "metadata": {},
   "outputs": [
    {
     "data": {
      "text/plain": [
       "VectorStoreRetriever(tags=['Chroma', 'HuggingFaceEmbeddings'], vectorstore=<langchain_chroma.vectorstores.Chroma object at 0x00000213C915F430>, search_kwargs={})"
      ]
     },
     "execution_count": 8,
     "metadata": {},
     "output_type": "execute_result"
    }
   ],
   "source": [
    "db = Chroma.from_documents(final_docs,embeddings)\n",
    "retreiver = db.as_retriever()\n",
    "retreiver\n"
   ]
  },
  {
   "cell_type": "code",
   "execution_count": null,
   "metadata": {},
   "outputs": [],
   "source": [
    "system_prompt = (\n",
    "    \"\"\" You are an assistant for question-answering tasks.\n",
    "    Use the following pieces of retrieved context to answer\n",
    "    the question. If you don't know the answer, say that you \n",
    "    don't know. Use three sentences maximum and keep the \n",
    "    answer concise.\n",
    "    \"\"\"\n",
    "    \"{context}\"\n",
    ")\n",
    "\n",
    "prompt = ChatPromptTemplate.from_messages([\n",
    "    (\"system\",system_prompt),\n",
    "    (\"human\",\"{input}\")\n",
    "]\n",
    ")"
   ]
  },
  {
   "cell_type": "code",
   "execution_count": 10,
   "metadata": {},
   "outputs": [],
   "source": [
    "chain = create_stuff_documents_chain(llm,prompt)\n",
    "rag_chain = create_retrieval_chain(retreiver,chain)"
   ]
  },
  {
   "cell_type": "code",
   "execution_count": 11,
   "metadata": {},
   "outputs": [
    {
     "data": {
      "text/plain": [
       "{'input': 'What is an Outbound call?',\n",
       " 'context': [Document(metadata={'description': 'MAP Communications answers the most frequently asked questions about call centers. Find the answers to your questions here!', 'language': 'en-US', 'source': 'https://www.mapcommunications.com/call-center-faq/', 'title': '\\nWhat Is a Call Center? - Call Center FAQs | MAP Communications'}, page_content='Our advanced technology and trained agents allow us to deliver efficient and professional support. This inevitably leads to increased efficiency and customer loyalty. We can also provide valuable insights through data analytics, empowering you to make informed decisions and optimize your service strategies for long-term success.\\nWhat is an Outbound Call?\\nOutbound calls occur when a business or organization initiates a call with a customer or client. For instance, a cable company might dial up a customer who is late on their monthly bill to request payment. Telemarketing is also a common type of outbound calling. These are examples of an outbound calls since the call center is taking the initiative to reach out to the consumer.\\nWhat is an Inbound Call?'),\n",
       "  Document(metadata={'description': 'MAP Communications answers the most frequently asked questions about call centers. Find the answers to your questions here!', 'language': 'en-US', 'source': 'https://www.mapcommunications.com/call-center-faq/', 'title': '\\nWhat Is a Call Center? - Call Center FAQs | MAP Communications'}, page_content='What is an Inbound Call?\\nInbound calls happen when a customer, client, or other individual calls into an organization. For instance, these are examples of inbound calls – if you call a customer service department for help, dial a phone number to place an order after seeing an offer on TV, or make a call to a business to schedule an appointment. These are considered inbound calls, because the phone rings in the call center to initiate the conversation. Basically, an inbound call is when a company receives a phone call from a customer.\\nWhat is an Inbound Call Center?\\nInbound call centers answer phones, but don’t typically dial them. Rather than dialing customers themselves, agents answer calls as they are placed by consumers. Telemarketing does not occur at an inbound call center. Common types of calls at an inbound call center include customer support, order taking, IT support, and answering questions for callers. MAP Communications is an example of an inbound call center.'),\n",
       "  Document(metadata={'description': 'MAP Communications answers the most frequently asked questions about call centers. Find the answers to your questions here!', 'language': 'en-US', 'source': 'https://www.mapcommunications.com/call-center-faq/', 'title': '\\nWhat Is a Call Center? - Call Center FAQs | MAP Communications'}, page_content='What is the Difference Between Inbound and Outbound Call Center Services?\\nThe key difference between outbound and inbound call center services is who is initiating the call. An inbound call center handles calls made by consumers. In an outbound call center, agents are the ones dialing the consumers. Types of inbound call center services include traditional telephone answering services, appointment scheduling, customer service, order taking, technical support, and hotline services. Types of outbound call center services include telemarketing, surveys, and reminders.\\nThere are plenty of call centers that are a hybrid, conducting both inbound and outbound call center services. However, many call center businesses choose to be an outbound or an inbound call center and focus on that specialty.\\nWhat Type of Business is a Call Center?'),\n",
       "  Document(metadata={'description': 'MAP Communications answers the most frequently asked questions about call centers. Find the answers to your questions here!', 'language': 'en-US', 'source': 'https://www.mapcommunications.com/call-center-faq/', 'title': '\\nWhat Is a Call Center? - Call Center FAQs | MAP Communications'}, page_content='If you’ve dialed a business in the last 30 years, odds are good you’ve reached a call center at some point. They’ve become ubiquitous among businesses large and small — and for good reason. But just what is a call center and how do they work?\\nCall center operations can do wonders to support businesses across industries. Whether you’re a busy realtor in need of help with appointment scheduling or a tech company hoping to add tier-one support for callers, call center services from MAP Communications can transform your customer experience offerings.\\nWhat Do Call Centers Do?\\nCall centers provide a channel for communication via telephone. Some call centers are located within an organization and are considered “in-house.” However, many call centers actually handle phone calls on the behalf of many different businesses as third party companies. Sometimes call centers specialize in outbound or inbound calls, while others will perform both.\\nHow Do Call Centers Operate')],\n",
       " 'answer': 'According to the provided context, an Outbound call occurs when a business or organization initiates a call with a customer or client, such as a cable company calling a customer to request payment or a telemarketing call.'}"
      ]
     },
     "execution_count": 11,
     "metadata": {},
     "output_type": "execute_result"
    }
   ],
   "source": [
    "response = rag_chain.invoke({\"input\":\"What is an Outbound call?\"})\n",
    "response"
   ]
  },
  {
   "cell_type": "code",
   "execution_count": 12,
   "metadata": {},
   "outputs": [
    {
     "data": {
      "text/plain": [
       "'According to the provided context, an Outbound call occurs when a business or organization initiates a call with a customer or client, such as a cable company calling a customer to request payment or a telemarketing call.'"
      ]
     },
     "execution_count": 12,
     "metadata": {},
     "output_type": "execute_result"
    }
   ],
   "source": [
    "response['answer']"
   ]
  },
  {
   "cell_type": "markdown",
   "metadata": {},
   "source": [
    "Adding Chat History and Memory"
   ]
  },
  {
   "cell_type": "code",
   "execution_count": 16,
   "metadata": {},
   "outputs": [],
   "source": [
    "from langchain.chains import create_history_aware_retriever\n",
    "from langchain_core.prompts import MessagesPlaceholder\n",
    "\n",
    "q_prompt = (\"\"\" \n",
    "            Given a chat history and the latest user question \n",
    "    which might reference context in the chat history,\n",
    "    formulate a standalone question which can be understood \n",
    "    without the chat history. Do NOT answer the question, \n",
    "    just reformulate it if needed and otherwise return it as is.\n",
    "            \"\"\")\n",
    "\n",
    "prompt2 = ChatPromptTemplate.from_messages([\n",
    "    (\"system\", q_prompt),\n",
    "        MessagesPlaceholder(\"chat_history\"),\n",
    "        (\"human\", \"{input}\"),\n",
    "    ]\n",
    ")"
   ]
  },
  {
   "cell_type": "markdown",
   "metadata": {},
   "source": [
    "- When I say that q_prompt (used in history_aware_retriever) \"reformulates questions for a clearer standalone interpretation if needed,\" I mean that it is designed to rewrite the user's question in a way that can be understood on its own, without relying on previous messages.\n",
    "\n",
    "Here’s why this is helpful and what it means in practice:\n",
    "\n",
    "- Imagine a conversation where the user asks follow-up questions. Often, these questions are not fully self-contained. For example:\n",
    "\n",
    "- Initial Question: “What is an Inbound call center?”\n",
    "Follow-up Question: “Tell me more about it?”\n",
    "The second question, \"Tell me more about it?\" lacks context by itself. On its own, it’s unclear what \"it\" refers to. So, before retrieving relevant documents or responding, we need to rewrite or reformulate it into a standalone question, like:\n",
    "\n",
    "- Reformulated Question: “Tell me more about an Inbound call center.”\n",
    "This reformulation makes the follow-up question complete and independent, helping the retrieval system fetch the right information. q_prompt instructs the model to perform this reformulation by considering both the new question and the past chat history.\n",
    "\n",
    "- Why history_aware_retriever Uses q_prompt\n",
    "When history_aware_retriever receives a follow-up question, it:\n",
    "\n",
    "- Checks the chat history to identify the context.\n",
    "Reformulates the question if necessary, using q_prompt, so the question is self-contained.\n",
    "Uses this clearer question to retrieve the most relevant information.\n",
    "This way, history_aware_retriever ensures that every query is fully understandable, even if the user’s input depends on prior messages."
   ]
  },
  {
   "cell_type": "code",
   "execution_count": 17,
   "metadata": {},
   "outputs": [
    {
     "data": {
      "text/plain": [
       "RunnableBinding(bound=RunnableBranch(branches=[(RunnableLambda(lambda x: not x.get('chat_history', False)), RunnableLambda(lambda x: x['input'])\n",
       "| VectorStoreRetriever(tags=['Chroma', 'HuggingFaceEmbeddings'], vectorstore=<langchain_chroma.vectorstores.Chroma object at 0x00000213C915F430>, search_kwargs={}))], default=ChatPromptTemplate(input_variables=['chat_history', 'input'], input_types={'chat_history': list[typing.Annotated[typing.Union[typing.Annotated[langchain_core.messages.ai.AIMessage, Tag(tag='ai')], typing.Annotated[langchain_core.messages.human.HumanMessage, Tag(tag='human')], typing.Annotated[langchain_core.messages.chat.ChatMessage, Tag(tag='chat')], typing.Annotated[langchain_core.messages.system.SystemMessage, Tag(tag='system')], typing.Annotated[langchain_core.messages.function.FunctionMessage, Tag(tag='function')], typing.Annotated[langchain_core.messages.tool.ToolMessage, Tag(tag='tool')], typing.Annotated[langchain_core.messages.ai.AIMessageChunk, Tag(tag='AIMessageChunk')], typing.Annotated[langchain_core.messages.human.HumanMessageChunk, Tag(tag='HumanMessageChunk')], typing.Annotated[langchain_core.messages.chat.ChatMessageChunk, Tag(tag='ChatMessageChunk')], typing.Annotated[langchain_core.messages.system.SystemMessageChunk, Tag(tag='SystemMessageChunk')], typing.Annotated[langchain_core.messages.function.FunctionMessageChunk, Tag(tag='FunctionMessageChunk')], typing.Annotated[langchain_core.messages.tool.ToolMessageChunk, Tag(tag='ToolMessageChunk')]], FieldInfo(annotation=NoneType, required=True, discriminator=Discriminator(discriminator=<function _get_type at 0x00000213DE18E5F0>, custom_error_type=None, custom_error_message=None, custom_error_context=None))]]}, partial_variables={}, messages=[SystemMessagePromptTemplate(prompt=PromptTemplate(input_variables=[], input_types={}, partial_variables={}, template=' \\n            Given a chat history and the latest user question \\n    which might reference context in the chat history,\\n    formulate a standalone question which can be understood \\n    without the chat history. Do NOT answer the question, \\n    just reformulate it if needed and otherwise return it as is.\\n            '), additional_kwargs={}), MessagesPlaceholder(variable_name='chat_history'), HumanMessagePromptTemplate(prompt=PromptTemplate(input_variables=['input'], input_types={}, partial_variables={}, template='{input}'), additional_kwargs={})])\n",
       "| ChatGroq(client=<groq.resources.chat.completions.Completions object at 0x00000213E21A2C20>, async_client=<groq.resources.chat.completions.AsyncCompletions object at 0x00000213E21A1960>, model_name='llama3-8b-8192', model_kwargs={}, groq_api_key=SecretStr('**********'))\n",
       "| StrOutputParser()\n",
       "| VectorStoreRetriever(tags=['Chroma', 'HuggingFaceEmbeddings'], vectorstore=<langchain_chroma.vectorstores.Chroma object at 0x00000213C915F430>, search_kwargs={})), kwargs={}, config={'run_name': 'chat_retriever_chain'}, config_factories=[])"
      ]
     },
     "execution_count": 17,
     "metadata": {},
     "output_type": "execute_result"
    }
   ],
   "source": [
    "history_aware_retriever = create_history_aware_retriever(llm,retreiver,prompt2)\n",
    "history_aware_retriever"
   ]
  },
  {
   "cell_type": "code",
   "execution_count": 19,
   "metadata": {},
   "outputs": [],
   "source": [
    "qa_prompt = ChatPromptTemplate.from_messages(\n",
    "    [\n",
    "        (\"system\", system_prompt),\n",
    "        MessagesPlaceholder(\"chat_history\"),\n",
    "        (\"human\", \"{input}\"),\n",
    "    ]\n",
    ")"
   ]
  },
  {
   "cell_type": "code",
   "execution_count": 20,
   "metadata": {},
   "outputs": [],
   "source": [
    "chain = create_stuff_documents_chain(llm,qa_prompt)\n",
    "rag_chain = create_retrieval_chain(history_aware_retriever,chain)"
   ]
  },
  {
   "cell_type": "code",
   "execution_count": 21,
   "metadata": {},
   "outputs": [
    {
     "name": "stdout",
     "output_type": "stream",
     "text": [
      "An inbound call center is a centralized hub where trained agents answer phone calls from customers, clients, or other individuals, providing support, answering questions, and resolving issues.\n"
     ]
    }
   ],
   "source": [
    "from langchain_core.messages import AIMessage,HumanMessage\n",
    "chat_history=[]\n",
    "question=\"What is an Inbound call center?\"\n",
    "response1=rag_chain.invoke({\"input\":question,\"chat_history\":chat_history})\n",
    "\n",
    "chat_history.extend(\n",
    "    [\n",
    "        HumanMessage(content=question),\n",
    "        AIMessage(content=response1[\"answer\"])\n",
    "    ]\n",
    ")\n",
    "\n",
    "question2=\"Tell me more about it?\"\n",
    "response2=rag_chain.invoke({\"input\":question,\"chat_history\":chat_history})\n",
    "print(response2['answer'])"
   ]
  },
  {
   "cell_type": "code",
   "execution_count": 22,
   "metadata": {},
   "outputs": [
    {
     "data": {
      "text/plain": [
       "[HumanMessage(content='What is an Inbound call center?', additional_kwargs={}, response_metadata={}),\n",
       " AIMessage(content='An inbound call center is a centralized hub where trained agents answer phone calls from customers, clients, or other individuals, providing support, answering questions, and resolving issues. This type of call center does not initiate calls, but rather answers incoming calls from customers who are seeking assistance.', additional_kwargs={}, response_metadata={})]"
      ]
     },
     "execution_count": 22,
     "metadata": {},
     "output_type": "execute_result"
    }
   ],
   "source": [
    "chat_history"
   ]
  },
  {
   "cell_type": "code",
   "execution_count": 23,
   "metadata": {},
   "outputs": [],
   "source": [
    "from langchain_community.chat_message_histories import ChatMessageHistory\n",
    "from langchain_core.chat_history import BaseChatMessageHistory\n",
    "from langchain_core.runnables.history import RunnableWithMessageHistory\n",
    "\n",
    "store = {}\n",
    "\n",
    "\n",
    "def get_session_history(session_id: str) -> BaseChatMessageHistory:\n",
    "    if session_id not in store:\n",
    "        store[session_id] = ChatMessageHistory()\n",
    "    return store[session_id]\n",
    "\n",
    "\n",
    "conversational_rag_chain = RunnableWithMessageHistory(\n",
    "    rag_chain,\n",
    "    get_session_history,\n",
    "    input_messages_key=\"input\",\n",
    "    history_messages_key=\"chat_history\",\n",
    "    output_messages_key=\"answer\",\n",
    ")"
   ]
  },
  {
   "cell_type": "markdown",
   "metadata": {},
   "source": [
    "This code introduces a mechanism for managing ongoing chat history sessions, allowing the bot to remember past conversations across sessions. Here’s an explanation of each part and why it may be necessary after the earlier setup:\n",
    "\n",
    "Key Components of This Code\n",
    "\n",
    "- ChatMessageHistory and store Dictionary:\n",
    "ChatMessageHistory manages and stores messages for individual chat sessions.\n",
    "store is a dictionary that keeps track of chat history for each unique session (e.g., session_id like \"abc123\").\n",
    "get_session_history is a helper function that checks if a chat session already exists in store. If it doesn’t, it creates a new history for that session.\n",
    "\n",
    "- RunnableWithMessageHistory:\n",
    "RunnableWithMessageHistory wraps the existing rag_chain so that each call maintains and references a session-specific chat history.\n",
    "This setup ensures that for any given session, all previous user inputs and AI responses are preserved, allowing the bot to refer back to prior interactions.\n",
    "\n",
    "- Explanation of invoke with Session ID:\n",
    "conversational_rag_chain.invoke is called with both a user input and a configuration dictionary that includes a session_id (e.g., \"abc123\").\n",
    "This session_id helps manage and recall chat history specific to the session so that context isn’t lost between interactions.\n",
    "Why RunnableWithMessageHistory is Useful\n",
    "This approach is particularly helpful if you want your chatbot to handle multiple conversations over time, especially in applications where each user might interact with the chatbot across multiple sessions. By tracking session_id, it keeps each \n",
    "user's history separate, ensuring that:\n",
    "\n",
    "- Users can resume conversations from where they left off.\n",
    "- Context is maintained across multiple messages, so follow-up questions and responses stay relevant.\n",
    "\n",
    "Flow of the Code\n",
    "- Session Initialization: When conversational_rag_chain.invoke is called for the first time with session_id = \"abc123\", get_session_history checks if \"abc123\" exists in store. If not, it initializes a new ChatMessageHistory.\n",
    "Message Handling: Each time a new question is asked, RunnableWithMessageHistory appends it to the session’s chat history, while also accessing past messages from this session.\n",
    "Answer Retrieval and History Update: After getting the answer, it’s stored back into the session-specific chat history for future reference. This way, subsequent questions are understood in light of past interactions within the same session.\n",
    "Is It Necessary?\n",
    "This setup is essential if:\n",
    "\n",
    "You want the bot to track long-term context and conversation history for each user individually.\n",
    "Your application needs to handle distinct sessions where different users or conversations may overlap in time.\n",
    "If your use case involves multiple sessions and requires remembering conversations, then RunnableWithMessageHistory is highly beneficial as it brings session persistence to your bot. Without this, each interaction would be treated independently, losing continuity."
   ]
  },
  {
   "cell_type": "code",
   "execution_count": 24,
   "metadata": {},
   "outputs": [
    {
     "data": {
      "text/plain": [
       "'The key difference between inbound and outbound call center services is who initiates the call. Inbound call centers handle calls made by consumers, while outbound call centers have agents dialing consumers.'"
      ]
     },
     "execution_count": 24,
     "metadata": {},
     "output_type": "execute_result"
    }
   ],
   "source": [
    "conversational_rag_chain.invoke(\n",
    "    {\"input\": \"What is the Difference Between Inbound and Outbound Call Center Services?\"},\n",
    "    config={\n",
    "        \"configurable\": {\"session_id\": \"abc123\"}\n",
    "    },  # constructs a key \"abc123\" in `store`.\n",
    ")[\"answer\"]"
   ]
  },
  {
   "cell_type": "code",
   "execution_count": 25,
   "metadata": {},
   "outputs": [
    {
     "data": {
      "text/plain": [
       "{'abc123': InMemoryChatMessageHistory(messages=[HumanMessage(content='What is the Difference Between Inbound and Outbound Call Center Services?', additional_kwargs={}, response_metadata={}), AIMessage(content='The key difference between inbound and outbound call center services is who initiates the call. Inbound call centers handle calls made by consumers, while outbound call centers have agents dialing consumers.', additional_kwargs={}, response_metadata={})])}"
      ]
     },
     "execution_count": 25,
     "metadata": {},
     "output_type": "execute_result"
    }
   ],
   "source": [
    "store"
   ]
  },
  {
   "cell_type": "markdown",
   "metadata": {},
   "source": [
    "You're absolutely right, and I apologize for the confusion in my earlier response! Let me clarify the concept again with the correct understanding.\n",
    "\n",
    "Key Points:\n",
    "MessagesPlaceholder is indeed used to store and pass the chat history for each request. This means that, even without RunnableWithMessageHistory, you can still have context from previous messages when you pass the chat history manually in each request.\n",
    "\n",
    "The absence of RunnableWithMessageHistory does not necessarily mean that the chat history is lost between requests. The context (chat history) would still be passed explicitly as part of the input using MessagesPlaceholder each time.\n",
    "\n",
    "So, What's Different Without RunnableWithMessageHistory?\n",
    "Without RunnableWithMessageHistory, you would manually manage the chat history in your code. Here's the difference:\n",
    "\n",
    "With RunnableWithMessageHistory: The session history is automatically stored and retrieved across multiple requests without you needing to manage it manually. It simplifies the process because the session is handled internally by Langchain, and you don’t have to worry about storing and fetching the conversation history explicitly. It works well when you want the bot to \"remember\" past conversations across multiple interactions without having to store or manage history on your own.\n",
    "\n",
    "Without RunnableWithMessageHistory: You need to manually manage the chat history in your code. Each time the user asks a new question, you need to pass the entire chat history (including past questions and answers) to the MessagesPlaceholder. This means you are still able to maintain the context, but the responsibility for storing and maintaining the history falls on you. If you don’t store the history yourself (like in a list or a database), you might lose it across requests."
   ]
  },
  {
   "cell_type": "markdown",
   "metadata": {},
   "source": [
    "Yes, exactly! You don’t need to use both methods at the same time.\n",
    "\n",
    "Key takeaway:\n",
    "RunnableWithMessageHistory is a more automated approach for handling chat history, so if you're using it, there's no need to manually handle the chat history with MessagesPlaceholder.\n",
    "MessagesPlaceholder can be used independently for managing the chat history if you prefer to manually pass and track the history between requests.\n",
    "Both approaches serve the same purpose of maintaining context across conversations, but you only need to choose one method based on your use case. Using both simultaneously is redundant and unnecessary."
   ]
  },
  {
   "cell_type": "code",
   "execution_count": null,
   "metadata": {},
   "outputs": [],
   "source": []
  }
 ],
 "metadata": {
  "kernelspec": {
   "display_name": "Python 3",
   "language": "python",
   "name": "python3"
  },
  "language_info": {
   "codemirror_mode": {
    "name": "ipython",
    "version": 3
   },
   "file_extension": ".py",
   "mimetype": "text/x-python",
   "name": "python",
   "nbconvert_exporter": "python",
   "pygments_lexer": "ipython3",
   "version": "3.10.0"
  }
 },
 "nbformat": 4,
 "nbformat_minor": 2
}
